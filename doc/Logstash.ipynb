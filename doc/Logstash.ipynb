{
 "cells": [
  {
   "cell_type": "markdown",
   "metadata": {
    "slideshow": {
     "slide_type": "slide"
    }
   },
   "source": [
    "# Logstash"
   ]
  },
  {
   "cell_type": "markdown",
   "metadata": {
    "slideshow": {
     "slide_type": "subslide"
    }
   },
   "source": [
    "![](https://i.imgflip.com/51za09.jpg)\n",
    "[Nicsmeme](https://imgflip.com/i/51za09)"
   ]
  },
  {
   "cell_type": "markdown",
   "metadata": {
    "cell_style": "split",
    "slideshow": {
     "slide_type": "subslide"
    }
   },
   "source": [
    "### Centralize, transform & stash your data\n",
    "> Logstash is a free and open server-side data processing pipeline that ingests data from a multitude of sources, transforms it, and then sends it to your favorite \"stash.\""
   ]
  },
  {
   "cell_type": "markdown",
   "metadata": {
    "cell_style": "split",
    "slideshow": {
     "slide_type": "fragment"
    }
   },
   "source": [
    "![](https://static-www.elastic.co/v3/assets/bltefdd0b53724fa2ce/blt48aca1f4f91f8ee7/5d0ab511b0b16b1c530d26bc/illustration-logstash-header.png)"
   ]
  },
  {
   "cell_type": "markdown",
   "metadata": {
    "slideshow": {
     "slide_type": "subslide"
    }
   },
   "source": [
    "### Inputs"
   ]
  },
  {
   "cell_type": "markdown",
   "metadata": {
    "cell_style": "split",
    "slideshow": {
     "slide_type": "subslide"
    }
   },
   "source": [
    "#### Ingest data of all shapes, sizes, and sources\n",
    "\n",
    "> Data is often scattered or siloed across many systems in many formats. Logstash supports a variety of [inputs](https://www.elastic.co/guide/en/logstash/current/input-plugins.html) that pull in events from a multitude of common sources, all at the same time. Easily ingest from your logs, metrics, web applications, data stores, and various AWS services, all in continuous, streaming fashion."
   ]
  },
  {
   "cell_type": "markdown",
   "metadata": {
    "cell_style": "split",
    "slideshow": {
     "slide_type": "fragment"
    }
   },
   "source": [
    "![](https://images.contentstack.io/v3/assets/bltefdd0b53724fa2ce/blt5939ba2e40ba0790/5d0d59d096d2d1b65a98422c/diagram-logstash-inputs.svg)"
   ]
  },
  {
   "cell_type": "markdown",
   "metadata": {
    "slideshow": {
     "slide_type": "subslide"
    }
   },
   "source": [
    "### Filters"
   ]
  },
  {
   "cell_type": "markdown",
   "metadata": {
    "cell_style": "split",
    "slideshow": {
     "slide_type": "subslide"
    }
   },
   "source": [
    "**Parse & transform your data on the fly**\n",
    "\n",
    "As data travels from source to store, Logstash filters parse each event, identify named fields to build structure, and transform them to converge on a common format for more powerful analysis and business value.\n",
    "\n",
    "Logstash dynamically transforms and prepares your data regardless of format or complexity:\n",
    "\n",
    "* Derive structure from unstructured data with grok\n",
    "* Decipher geo coordinates from IP addresses\n",
    "* Anonymize PII data, exclude sensitive fields completely\n",
    "* Ease overall processing, independent of the data source, format, or schema."
   ]
  },
  {
   "cell_type": "markdown",
   "metadata": {
    "cell_style": "split",
    "slideshow": {
     "slide_type": "fragment"
    }
   },
   "source": [
    "![](https://images.contentstack.io/v3/assets/bltefdd0b53724fa2ce/bltd908f368097df15a/5d0d59ed970556dd5800ed8b/diagram-logstash-filters.svg)"
   ]
  },
  {
   "cell_type": "markdown",
   "metadata": {
    "slideshow": {
     "slide_type": "subslide"
    }
   },
   "source": [
    "## Outputs"
   ]
  },
  {
   "cell_type": "markdown",
   "metadata": {
    "cell_style": "split",
    "slideshow": {
     "slide_type": "subslide"
    }
   },
   "source": [
    "Choose your stash, transport your data\n",
    "While Elasticsearch is our go-to output that opens up a world of search and analytics possibilities, it’s not the only one available.\n",
    "\n",
    "Logstash has a variety of [outputs](https://www.elastic.co/guide/en/logstash/current/output-plugins.html) that let you route data where you want, giving you the flexibility to unlock a slew of downstream use cases."
   ]
  },
  {
   "cell_type": "markdown",
   "metadata": {
    "cell_style": "split",
    "slideshow": {
     "slide_type": "fragment"
    }
   },
   "source": [
    "![](https://images.contentstack.io/v3/assets/bltefdd0b53724fa2ce/blt169c0535507b407e/5d0d5a0fb58121dc58ed6a40/diagram-logstash-outputs.svg)"
   ]
  },
  {
   "cell_type": "markdown",
   "metadata": {
    "slideshow": {
     "slide_type": "subslide"
    }
   },
   "source": [
    "### Extensibility"
   ]
  },
  {
   "cell_type": "markdown",
   "metadata": {
    "cell_style": "split",
    "slideshow": {
     "slide_type": "subslide"
    }
   },
   "source": [
    "### Create and configure your pipeline, your way"
   ]
  },
  {
   "cell_type": "markdown",
   "metadata": {
    "cell_style": "split",
    "slideshow": {
     "slide_type": "fragment"
    }
   },
   "source": [
    "Logstash has a pluggable framework featuring over 200 plugins. Mix, match, and orchestrate different inputs, filters, and outputs to work in pipeline harmony."
   ]
  },
  {
   "cell_type": "markdown",
   "metadata": {
    "cell_style": "split",
    "slideshow": {
     "slide_type": "fragment"
    }
   },
   "source": [
    "Build your own plugin using Ruby and package using gem\n",
    "\n",
    "See [reference](https://www.elastic.co/guide/en/logstash/current/input-new-plugin.html)"
   ]
  },
  {
   "cell_type": "markdown",
   "metadata": {
    "slideshow": {
     "slide_type": "slide"
    }
   },
   "source": [
    "## Read the docs \n",
    "https://www.elastic.co/guide/en/logstash/current/introduction.html"
   ]
  },
  {
   "cell_type": "markdown",
   "metadata": {
    "slideshow": {
     "slide_type": "subslide"
    }
   },
   "source": [
    "### Introduction"
   ]
  },
  {
   "cell_type": "markdown",
   "metadata": {
    "cell_style": "split",
    "slideshow": {
     "slide_type": "subslide"
    }
   },
   "source": [
    "Logstash is an open source data collection engine with real-time pipelining capabilities. Logstash can dynamically unify data from disparate sources and normalize the data into destinations of your choice. Cleanse and democratize all your data for diverse advanced downstream analytics and visualization use cases.\n",
    "\n"
   ]
  },
  {
   "cell_type": "markdown",
   "metadata": {
    "cell_style": "split",
    "slideshow": {
     "slide_type": "fragment"
    }
   },
   "source": [
    "While Logstash originally drove innovation in log collection, its capabilities extend well beyond that use case. Any type of event can be enriched and transformed with a broad array of input, filter, and output plugins, with many native codecs further simplifying the ingestion process. Logstash accelerates your insights by harnessing a greater volume and variety of data."
   ]
  },
  {
   "cell_type": "markdown",
   "metadata": {
    "slideshow": {
     "slide_type": "subslide"
    }
   },
   "source": [
    "![](https://www.elastic.co/guide/en/logstash/8.1/static/images/basic_logstash_pipeline.png)"
   ]
  },
  {
   "cell_type": "markdown",
   "metadata": {
    "slideshow": {
     "slide_type": "subslide"
    }
   },
   "source": [
    "## Configuration"
   ]
  },
  {
   "cell_type": "markdown",
   "metadata": {
    "cell_style": "split",
    "slideshow": {
     "slide_type": "subslide"
    }
   },
   "source": [
    "### Pipelines\n",
    "A conf file is a configuration for a pipeline.\n",
    "\n",
    "```conf\n",
    "# This is a comment. You should use comments to describe\n",
    "# parts of your configuration.\n",
    "input {\n",
    "  ...\n",
    "}\n",
    "\n",
    "filter {\n",
    "  ...\n",
    "}\n",
    "\n",
    "output {\n",
    "  ...\n",
    "}\n",
    "```"
   ]
  },
  {
   "cell_type": "markdown",
   "metadata": {
    "cell_style": "split",
    "slideshow": {
     "slide_type": "fragment"
    }
   },
   "source": [
    "### Settings\n",
    "\n",
    "logstash.yml is the setting file YAML format containg control general options for the execution\n",
    "\n",
    "https://www.elastic.co/guide/en/logstash/current/logstash-settings-file.html\n",
    "\n",
    "```yaml\n",
    "pipeline:\n",
    "  batch:\n",
    "    size: 125\n",
    "    delay: 50\n",
    "```"
   ]
  },
  {
   "cell_type": "markdown",
   "metadata": {
    "slideshow": {
     "slide_type": "subslide"
    }
   },
   "source": [
    "## Logstash on Docker"
   ]
  },
  {
   "cell_type": "markdown",
   "metadata": {
    "slideshow": {
     "slide_type": "fragment"
    }
   },
   "source": [
    "Elastic provides a ready to use image in Docker Hub\n",
    "\n",
    "https://hub.docker.com/_/logstash"
   ]
  },
  {
   "cell_type": "markdown",
   "metadata": {
    "cell_style": "center",
    "slideshow": {
     "slide_type": "subslide"
    }
   },
   "source": [
    "### Config \"Echo Stash\"\n",
    "i.e a simple configuration that echoes the standard input"
   ]
  },
  {
   "cell_type": "markdown",
   "metadata": {
    "slideshow": {
     "slide_type": "fragment"
    }
   },
   "source": [
    "```conf\n",
    "input {\n",
    "  java_stdin {\n",
    "    id => \"tap_in\"\n",
    "  }\n",
    "}\n",
    "\n",
    "\n",
    "output \n",
    "{\n",
    "  stdout {}\n",
    "}\n",
    "```"
   ]
  },
  {
   "cell_type": "markdown",
   "metadata": {
    "cell_style": "center",
    "slideshow": {
     "slide_type": "fragment"
    }
   },
   "source": [
    "### Run "
   ]
  },
  {
   "cell_type": "markdown",
   "metadata": {
    "slideshow": {
     "slide_type": "subslide"
    }
   },
   "source": [
    "We will mount the configuration to the docker container at runtime \n",
    "```bash\n",
    "# Must be run from the logstash directory\n",
    "cd logstash \n",
    "docker run --rm -it --hostname=\"logstash\" -v $PWD/pipeline/echostash.conf:/usr/share/logstash/pipeline/logstash.conf -e XPACK_MONITORING_ENABLED=false docker.elastic.co/logstash/logstash:8.13.0\n",
    "```"
   ]
  },
  {
   "cell_type": "markdown",
   "metadata": {
    "slideshow": {
     "slide_type": "subslide"
    }
   },
   "source": [
    "Start writing\n",
    "\n",
    "```json\n",
    "Ciao\n",
    "{\n",
    "      \"@version\" => \"1\",\n",
    "    \"@timestamp\" => 2024-04-03T19:11:45.546138094Z,\n",
    "       \"message\" => \"Ciao\",\n",
    "      \"hostname\" => \"logstash\"\n",
    "}\n",
    "```"
   ]
  },
  {
   "cell_type": "markdown",
   "metadata": {
    "slideshow": {
     "slide_type": "subslide"
    }
   },
   "source": [
    "## Something more than console ?"
   ]
  },
  {
   "cell_type": "markdown",
   "metadata": {
    "slideshow": {
     "slide_type": "fragment"
    }
   },
   "source": [
    "Build a new image\n",
    "```bash\n",
    "# Must be run from the logstash directory\n",
    "cd logstash \n",
    "docker build . -t tap:logstash\n",
    "docker run --rm -p 8080:8080 -it --name \"logstash\" --hostname=\"logstash\" -v $PWD/pipeline/httptofile.conf:/usr/share/logstash/pipeline/logstash.conf -e XPACK_MONITORING_ENABLED=false tap:logstash\n",
    "```"
   ]
  },
  {
   "cell_type": "markdown",
   "metadata": {
    "cell_style": "split",
    "slideshow": {
     "slide_type": "subslide"
    }
   },
   "source": [
    "#### Input\n",
    "```\n",
    "input {\n",
    "  http {\n",
    "    id => \"tap_http_in\"\n",
    "  }\n",
    "}\n",
    "\n",
    "```"
   ]
  },
  {
   "cell_type": "markdown",
   "metadata": {
    "cell_style": "split",
    "slideshow": {
     "slide_type": "fragment"
    }
   },
   "source": [
    "#### Filter\n",
    "```\n",
    "  sentimentalizer {\n",
    "    source => \"message\"\n",
    "  }\n",
    "\n",
    "  geoip {\n",
    "    source => \"[ip]\"\n",
    "    ecs_compatibility => disabled\n",
    "  }\n",
    "```\n"
   ]
  },
  {
   "cell_type": "markdown",
   "metadata": {
    "slideshow": {
     "slide_type": "fragment"
    }
   },
   "source": [
    "#### Output\n",
    "```\n",
    " file {\n",
    "   path => \"/tmp/messages\"\n",
    " }\n",
    " ```"
   ]
  },
  {
   "cell_type": "markdown",
   "metadata": {
    "slideshow": {
     "slide_type": "fragment"
    }
   },
   "source": [
    "#### Run\n",
    "```bash\n",
    "curl -X POST -d \"Nice\" \"http://localhost:8080\"\n",
    "```\n",
    "\n",
    "Get inside container to check /tmp/messages file\n",
    "```bash\n",
    "exec -it logstash tail -f /tmp/messages\n",
    "```"
   ]
  },
  {
   "cell_type": "markdown",
   "metadata": {
    "slideshow": {
     "slide_type": "subslide"
    }
   },
   "source": [
    "## A look to the guide\n",
    "https://www.elastic.co/guide/en/logstash/current/index.html"
   ]
  }
 ],
 "metadata": {
  "celltoolbar": "Slideshow",
  "kernelspec": {
   "display_name": "Python 3 (ipykernel)",
   "language": "python",
   "name": "python3"
  },
  "language_info": {
   "codemirror_mode": {
    "name": "ipython",
    "version": 3
   },
   "file_extension": ".py",
   "mimetype": "text/x-python",
   "name": "python",
   "nbconvert_exporter": "python",
   "pygments_lexer": "ipython3",
   "version": "3.10.12"
  },
  "rise": {
   "autolaunch": true,
   "enable_chalkboard": "true",
   "footer": "<div class=\"tap-footer\"> *** Technologies for advanced programming (TAP) - 2024 ***</div>",
   "header": "<div class=\"tap-header\"></div>",
   "scroll": true,
   "theme": "white"
  }
 },
 "nbformat": 4,
 "nbformat_minor": 4
}
